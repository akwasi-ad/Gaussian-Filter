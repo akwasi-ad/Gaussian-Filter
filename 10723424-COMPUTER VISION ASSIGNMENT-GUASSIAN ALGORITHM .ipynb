{
 "cells": [
  {
   "cell_type": "code",
   "execution_count": 1,
   "metadata": {},
   "outputs": [],
   "source": [
    "import numpy as np\n",
    "import math\n",
    "def generate_kernel(size):\n",
    "    '''\n",
    "    This function generates a gaussian kernel.In this code,the σ has been set default to 1 so we only specify the size of the kernel\n",
    "    size= Size of kernel.3x3 or 5x5 or 7x7?\n",
    "    '''\n",
    "    kernel =  np.fromfunction(lambda x, y: (1/(2*math.pi*1**2)) * math.e ** ((-1*((x-(size-1)/2)**2+(y-(size-1)/2)**2))/(2*1**2)), (size, size))\n",
    "    return kernel / np.sum(kernel)"
   ]
  },
  {
   "cell_type": "code",
   "execution_count": 2,
   "metadata": {},
   "outputs": [],
   "source": [
    "def gaussianFilter(img,kernel_size):\n",
    "    kernel = generate_kernel(kernel_size)\n",
    "    d = int((kernel_size-1)/2)\n",
    "    gaussian = np.zeros((img.shape[0]-2*d, img.shape[1]-2*d))\n",
    "    for y in range(d, img.shape[0]-d):\n",
    "        for x in range(d, img.shape[1]-d):\n",
    "            gaussian[y-d][x-d] = np.sum(np.multiply(img[y-d:y+d+1, x-d:x+d+1], kernel))\n",
    "    return gaussian"
   ]
  },
  {
   "cell_type": "code",
   "execution_count": 3,
   "metadata": {},
   "outputs": [
    {
     "name": "stdout",
     "output_type": "stream",
     "text": [
      "[[0.46993458 0.29106643 0.86795218 0.59763295 0.09305667 0.83718918\n",
      "  0.22405369 0.44368851 0.62187336 0.26275095]\n",
      " [0.3580238  0.10490691 0.93469747 0.03043619 0.4598623  0.53817749\n",
      "  0.9883024  0.41458479 0.87851647 0.97357408]\n",
      " [0.83443646 0.79437451 0.46482845 0.21280869 0.80895545 0.58777002\n",
      "  0.26140118 0.64825753 0.88022156 0.34563842]\n",
      " [0.80009104 0.42944431 0.64778864 0.31985762 0.18460264 0.32811473\n",
      "  0.52671815 0.56839338 0.04352988 0.49190394]\n",
      " [0.29311567 0.90435093 0.52481985 0.74522267 0.13766851 0.56385707\n",
      "  0.13870632 0.91479579 0.74624462 0.91699201]\n",
      " [0.85816884 0.70641784 0.04552462 0.0125524  0.4724844  0.68188383\n",
      "  0.55340336 0.05137083 0.13925136 0.1792093 ]\n",
      " [0.80430658 0.48173363 0.17067187 0.8538301  0.06462813 0.64194372\n",
      "  0.762669   0.1338836  0.28897183 0.1617578 ]\n",
      " [0.39878511 0.09256225 0.16895963 0.49179979 0.09020941 0.7832897\n",
      "  0.91422216 0.71616402 0.63313368 0.04417751]\n",
      " [0.82995657 0.23533653 0.7364994  0.81229214 0.69337554 0.12733087\n",
      "  0.38635489 0.21558523 0.86408795 0.00463442]\n",
      " [0.63900684 0.56520589 0.04157966 0.06843804 0.85022841 0.69375574\n",
      "  0.11827165 0.38566283 0.30686324 0.58319264]]\n"
     ]
    }
   ],
   "source": [
    "img= np.random.rand(10, 10)\n",
    "print(img)\n",
    "#Printing some dummy values as the image"
   ]
  },
  {
   "cell_type": "code",
   "execution_count": 4,
   "metadata": {},
   "outputs": [
    {
     "data": {
      "text/plain": [
       "array([[0.51402081, 0.51506757, 0.44714827, 0.44392805, 0.5699144 ,\n",
       "        0.5689562 , 0.60035954, 0.66502687],\n",
       "       [0.59512937, 0.48206581, 0.41185366, 0.43551089, 0.52205491,\n",
       "        0.53297191, 0.57853164, 0.60090896],\n",
       "       [0.63639448, 0.54717808, 0.43247736, 0.39363326, 0.39886239,\n",
       "        0.47202942, 0.53246883, 0.55386779],\n",
       "       [0.60324652, 0.50759131, 0.37680258, 0.37243515, 0.4049226 ,\n",
       "        0.46762062, 0.46799018, 0.49881771],\n",
       "       [0.56247792, 0.4086886 , 0.33217897, 0.41820717, 0.49850323,\n",
       "        0.48477088, 0.37160255, 0.34498924],\n",
       "       [0.4285749 , 0.32470588, 0.32431121, 0.41605747, 0.56747943,\n",
       "        0.60126085, 0.42088089, 0.26569985],\n",
       "       [0.36890895, 0.39822193, 0.46392373, 0.45313151, 0.52283404,\n",
       "        0.59868988, 0.55404958, 0.4049797 ],\n",
       "       [0.4172687 , 0.39768052, 0.49876618, 0.52743046, 0.49082714,\n",
       "        0.44292702, 0.48348746, 0.44999851]])"
      ]
     },
     "execution_count": 4,
     "metadata": {},
     "output_type": "execute_result"
    }
   ],
   "source": [
    "gaussianFilter(img,3) # Prints the final image after the blur.Missing rows and columns have zeros\n",
    "# Now applying the 3x3 matrix to the kernel"
   ]
  },
  {
   "cell_type": "code",
   "execution_count": null,
   "metadata": {},
   "outputs": [],
   "source": []
  }
 ],
 "metadata": {
  "kernelspec": {
   "display_name": "Python 3",
   "language": "python",
   "name": "python3"
  },
  "language_info": {
   "codemirror_mode": {
    "name": "ipython",
    "version": 3
   },
   "file_extension": ".py",
   "mimetype": "text/x-python",
   "name": "python",
   "nbconvert_exporter": "python",
   "pygments_lexer": "ipython3",
   "version": "3.7.3"
  }
 },
 "nbformat": 4,
 "nbformat_minor": 2
}
